{
 "cells": [
  {
   "cell_type": "code",
   "execution_count": 5,
   "id": "ccc1bf47",
   "metadata": {},
   "outputs": [],
   "source": [
    "from openai import OpenAI\n",
    "import pandas as pd\n",
    "import matplotlib.pyplot as plt\n",
    "import seaborn as sns"
   ]
  },
  {
   "cell_type": "markdown",
   "id": "9a2d6c4b",
   "metadata": {},
   "source": [
    "## Token Length Analysis"
   ]
  },
  {
   "cell_type": "code",
   "execution_count": 14,
   "id": "f3ed8c0e",
   "metadata": {},
   "outputs": [
    {
     "name": "stdout",
     "output_type": "stream",
     "text": [
      "Mean tokens: 9.951417004048583\n",
      "Median tokens: 10.0\n",
      "Q1: 8.0\n",
      "Q3: 12.0\n",
      "Max: 151\n",
      "Min: 2\n"
     ]
    }
   ],
   "source": [
    "data_path_1 = \"data/Sarcasm_Headlines_Dataset.json\"\n",
    "data_1 = pd.read_json(data_path_1, lines=True)\n",
    "\n",
    "data_path_2 = \"data/Sarcasm_Headlines_Dataset_v2.json\"\n",
    "data_2 = pd.read_json(data_path_2, lines=True)\n",
    "\n",
    "combined_headlines = pd.concat([data_1['headline'], data_2['headline']], ignore_index=True)\n",
    "\n",
    "token_counts = combined_headlines.apply(lambda x: len(x.split()))\n",
    "\n",
    "print(\"Mean tokens:\", token_counts.mean())\n",
    "print(\"Median tokens:\", token_counts.median())\n",
    "print(\"Q1:\", token_counts.quantile(0.25))\n",
    "print(\"Q3:\", token_counts.quantile(0.75))\n",
    "print(\"Max:\", token_counts.max())\n",
    "print(\"Min:\", token_counts.min())"
   ]
  },
  {
   "cell_type": "markdown",
   "id": "4ece5986",
   "metadata": {},
   "source": [
    "## API"
   ]
  },
  {
   "cell_type": "code",
   "execution_count": 12,
   "id": "17fb68cb",
   "metadata": {},
   "outputs": [],
   "source": [
    "client = OpenAI(api_key=\"sk-c1f2fdf429f24e27a57b34443f7611c7\", base_url=\"https://api.deepseek.com\")"
   ]
  },
  {
   "cell_type": "markdown",
   "id": "cdff5fec",
   "metadata": {},
   "source": [
    "## Unseen Sarcastic Headlines Generation"
   ]
  },
  {
   "cell_type": "code",
   "execution_count": 18,
   "id": "e5d0682f",
   "metadata": {},
   "outputs": [
    {
     "name": "stdout",
     "output_type": "stream",
     "text": [
      "1. Local Man Finally Discovers Socks Go Up And Down  \n",
      "2. Politician Shocked By Own Hypocrisy, Briefly  \n",
      "3. Experts Confirm Water Is, In Fact, Wet  \n",
      "4. Cat Owner Surprised Pet Doesn’t Care About Feelings  \n",
      "5. Study Finds Breathing Linked To Staying Alive  \n",
      "6. CEO Praises Hard Work While Boarding Private Jet  \n",
      "7. Area Dad Masters Obscure Grill Technique No One Asked For  \n",
      "8. Weatherman Wrong Again, Nation Stunned  \n",
      "9. Millennial Ruins Economy By Buying Avocado  \n",
      "10. Dog Excited For Same Walk It Hates Tomorrow  \n",
      "11. Traffic Jam Blamed On All The Other Drivers  \n",
      "12. Man Explains Topic He Googled Five Minutes Ago  \n",
      "13. Company Values ‘Transparency’ In Internal Email  \n",
      "14. Teen Discovers Parents Might Know A Thing  \n",
      "15. Diet Coke Drinkers Feel Superior For No Reason  \n",
      "16. Meeting That Could’ve Been Email Drags On  \n",
      "17. ‘Thoughts And Prayers’ Deployed After Tragedy  \n",
      "18. Influencer Shares Vital Tip No One Needed  \n",
      "19. Boss Demands Passion While Offering Minimum Wage  \n",
      "20. ‘Disruptive’ Startup Just Sells Old Stuff Online  \n",
      "21. Gym Crowded With People Who Will Quit In February  \n",
      "22. Man Yells At Cloud, Cloud Unaffected  \n",
      "23. ‘Unique’ Wedding Has Same Pinterest Board As Everyone  \n",
      "24. Fast Food Worker Expected To Care About Your Diet  \n",
      "25. Traffic Light Turns Green, Driver Waits For Text  \n",
      "26. ‘Self-Made’ Billionaire Forgets Inheritance Exists  \n",
      "27. Politician Vows To Fix Problem They Created  \n",
      "28. Tourist Shocked Foreign Country Speaks Foreign  \n",
      "29. ‘Artisanal’ Toast Still Just Bread, But Pricier  \n",
      "30. Cat Videos Proven More Useful Than Productivity  \n",
      "31. ‘Innovative’ App Adds Feature Phones Had In 2002  \n",
      "32. Couple Fights Over Where To Eat, Ends Up At Home  \n",
      "33. ‘Limited Edition’ Product Returns Next Season  \n",
      "34. Local Hero Saves Day By Doing Bare Minimum  \n",
      "35. ‘Organic’ Label Now On Everything, Even Rocks  \n",
      "36. Tech Bro Solves Poverty, Forgets To Tell Anyone  \n",
      "37. ‘Eco-Friendly’ Product Wrapped In Plastic  \n",
      "38. ‘Vintage’ Clothes Just Your Grandma’s Junk  \n",
      "39. ‘Life Hack’ Is Just Basic Common Sense  \n",
      "40. ‘Exclusive’ Event Full Of People Who Got Invites  \n",
      "41. ‘Revolutionary’ Gadget Needs 17 Batteries  \n",
      "42. ‘Historic’ Agreement Forgotten By Next Week  \n",
      "43. ‘Gluten-Free’ Water Now A Thing, Somehow  \n",
      "44. ‘Quiet Quitting’ Just Called ‘Working’ Before  \n",
      "45. ‘Premium’ Service Means Paying To Skip Lines  \n",
      "46. ‘Authentic’ Restaurant Owned By Chain  \n",
      "47. ‘Mindfulness’ Seminar Just A Nap With Jargon  \n",
      "48. ‘Cutting-Edge’ Tech Still Can’t Print Right  \n",
      "49. ‘Handcrafted’ Item Made By Underpaid Worker  \n",
      "50. ‘Game-Changing’ Policy Changes Nothing, As Usual\n"
     ]
    }
   ],
   "source": [
    "prompt = (\"Generate a 50 sarcastic news headlines, each of token size between 4 to 9. Make the writing style as varied as possible. Only output the headlines, with no additional text or explanation. Do not put in double quotation.\")\n",
    "\n",
    "response = client.chat.completions.create(\n",
    "    model=\"deepseek-chat\",\n",
    "    messages=[\n",
    "        {\"role\": \"user\", \"content\": prompt}\n",
    "    ],\n",
    "    stream=False\n",
    ")\n",
    "\n",
    "res_content = response.choices[0].message.content\n",
    "print(res_content)\n",
    "\n",
    "with open(\"data/short_headlines.txt\", \"a\") as outfile:\n",
    "    outfile.write(res_content + \"\\n\")"
   ]
  },
  {
   "cell_type": "markdown",
   "id": "20c6ced7",
   "metadata": {},
   "source": [
    "## Unseen Non-Sarcastic Headlines Generation"
   ]
  },
  {
   "cell_type": "code",
   "execution_count": 19,
   "id": "ccfbe53d",
   "metadata": {},
   "outputs": [
    {
     "name": "stdout",
     "output_type": "stream",
     "text": [
      "1. Heavy rain floods downtown streets overnight  \n",
      "2. Scientists discover new species in Amazon  \n",
      "3. Local bakery wins national award  \n",
      "4. City council approves new park plans  \n",
      "5. Study finds exercise boosts mental health  \n",
      "6. High school team advances to finals  \n",
      "7. Solar farm to power 10,000 homes  \n",
      "8. Hospital opens new pediatric wing  \n",
      "9. Unemployment rate drops to 5-year low  \n",
      "10. Firefighters rescue family from blaze  \n",
      "11. New bridge construction begins next month  \n",
      "12. Farmers market expands to weekends  \n",
      "13. Tech company announces remote work policy  \n",
      "14. Library hosts free literacy workshops  \n",
      "15. Mayor pledges cleaner public transit  \n",
      "16. Rare bird spotted in local wetlands  \n",
      "17. Community raises funds for food bank  \n",
      "18. Train delays expected due to upgrades  \n",
      "19. School district hires more counselors  \n",
      "20. Coffee shop donates profits to charity  \n",
      "21. New law reduces plastic waste  \n",
      "22. Museum exhibit draws record crowds  \n",
      "23. Volunteers plant 500 trees in park  \n",
      "24. Highway repairs finish ahead of schedule  \n",
      "25. Local artist paints mural downtown  \n",
      "26. Summer camp enrollment opens soon  \n",
      "27. Dog park receives new agility equipment  \n",
      "28. Researchers develop faster vaccine method  \n",
      "29. Neighborhood celebrates annual block party  \n",
      "30. Grocery store cuts prices for holidays  \n",
      "31. Police department adds body cameras  \n",
      "32. Theater group debuts original play  \n",
      "33. Bike lanes coming to Main Street  \n",
      "34. Storm causes minor power outages  \n",
      "35. New app helps track recycling habits  \n",
      "36. Book club grows to 100 members  \n",
      "37. Beach cleanup removes tons of trash  \n",
      "38. Senior center offers free yoga classes  \n",
      "39. Factory creates 200 new jobs  \n",
      "40. Historic building gets restoration grant  \n",
      "41. Weather alert warns of high winds  \n",
      "42. Charity run raises $50,000 for cancer  \n",
      "43. Zoo welcomes baby penguin hatchling  \n",
      "44. Bus routes expand to suburbs  \n",
      "45. Local brewery wins taste competition  \n",
      "46. Free Wi-Fi installed in public square  \n",
      "47. Students build robot for science fair  \n",
      "48. New clinic offers low-cost dental care  \n",
      "49. Festival features live music and food  \n",
      "50. Couple celebrates 70th anniversary\n"
     ]
    }
   ],
   "source": [
    "client = OpenAI(api_key=\"sk-c1f2fdf429f24e27a57b34443f7611c7\", base_url=\"https://api.deepseek.com\")\n",
    "\n",
    "prompt = (\"Generate a 50 non-sarcastic news headlines, each of token size 4 to 9. Make the writing style as varied as possible. Only output the headlines, with no additional text or explanation. Do not put in double quotation.\")\n",
    "\n",
    "response = client.chat.completions.create(\n",
    "    model=\"deepseek-chat\",\n",
    "    messages=[\n",
    "        {\"role\": \"user\", \"content\": prompt}\n",
    "    ],\n",
    "    stream=False\n",
    ")\n",
    "\n",
    "res_content = response.choices[0].message.content\n",
    "print(res_content)\n",
    "\n",
    "with open(\"data/short_headlines.txt\", \"a\") as outfile:\n",
    "    outfile.write(res_content + \"\\n\")"
   ]
  }
 ],
 "metadata": {
  "kernelspec": {
   "display_name": "Python 3",
   "language": "python",
   "name": "python3"
  },
  "language_info": {
   "codemirror_mode": {
    "name": "ipython",
    "version": 3
   },
   "file_extension": ".py",
   "mimetype": "text/x-python",
   "name": "python",
   "nbconvert_exporter": "python",
   "pygments_lexer": "ipython3",
   "version": "3.11.11"
  }
 },
 "nbformat": 4,
 "nbformat_minor": 5
}
